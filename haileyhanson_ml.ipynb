{
 "cells": [
  {
   "cell_type": "markdown",
   "id": "e3b8eff6",
   "metadata": {},
   "source": [
    "# Predictive ML Project\n",
    "- 🖤  Author : [Hailey Hanson](https://github.com/haileylhanson/)\n",
    "- 🖤  Repository : [datafun-07-ml](https://github.com/haileylhanson/datafun-07-ml)\n",
    "- 🖤  Date : October 2025 \n",
    "- 🖤  Purpose : "
   ]
  },
  {
   "cell_type": "markdown",
   "id": "e87d83a7",
   "metadata": {
    "vscode": {
     "languageId": "plaintext"
    }
   },
   "source": [
    "### Imports"
   ]
  },
  {
   "cell_type": "code",
   "execution_count": 1,
   "id": "a1f10101",
   "metadata": {},
   "outputs": [],
   "source": [
    "import matplotlib\n",
    "import matplotlib.pyplot as plt\n",
    "import pandas as pd\n",
    "import seaborn as sns\n",
    "from matplotlib.axes import Axes\n",
    "\n",
    "#Local Imports\n",
    "from complexnumber import Complex"
   ]
  },
  {
   "cell_type": "markdown",
   "id": "76b3fb2b",
   "metadata": {},
   "source": [
    "### Part 1 - Chart a Straight Line"
   ]
  },
  {
   "cell_type": "code",
   "execution_count": 2,
   "id": "ac2c17ce",
   "metadata": {},
   "outputs": [
    {
     "name": "stdout",
     "output_type": "stream",
     "text": [
      "x = (2 + 4i)\n",
      "y = (5 - 1i)\n",
      " x + y = (7 + 3i)\n",
      "x still = (2 + 4i)\n",
      "y still = (5 - 1i)\n",
      "(unchanged)\n",
      "\n",
      "x += y\n",
      "now, x = (7 + 3i)\n"
     ]
    }
   ],
   "source": [
    "# use Pandas DataFrames to plot Celsius vs Fahrenheit \n",
    "#display complex number in a readable string\n",
    "x = Complex(real = 2, imaginary = 4)\n",
    "print(f\"x = {x}\")\n",
    "\n",
    "#display complex number with negative imaginary in a readable string\n",
    "y = Complex(real = 5, imaginary= -1)\n",
    "print(f\"y = {y}\")\n",
    "\n",
    "# use + operator to add Complex objects together\n",
    "print(f\" x + y = {x + y}\")\n",
    "\n",
    "# make sure neither elements were altered by the + operator\n",
    "print(f\"x still = {x}\")\n",
    "print(f\"y still = {y}\")\n",
    "print(\"(unchanged)\\n\")\n",
    "\n",
    "# use += operator to modify x \n",
    "x += y \n",
    "print(\"x += y\")\n",
    "#print(f\"x += y : {x += y}\")\n",
    "print(f\"now, x = {x}\") \n"
   ]
  },
  {
   "cell_type": "markdown",
   "id": "d0e8b647",
   "metadata": {},
   "source": [
    "### Part 2 - Prediction"
   ]
  },
  {
   "cell_type": "markdown",
   "id": "9667a22f",
   "metadata": {},
   "source": [
    "### Part 3 - Prediction"
   ]
  },
  {
   "cell_type": "markdown",
   "id": "9220acd4",
   "metadata": {},
   "source": [
    "### Part 4 - Insights"
   ]
  }
 ],
 "metadata": {
  "kernelspec": {
   "display_name": ".venv",
   "language": "python",
   "name": "python3"
  },
  "language_info": {
   "codemirror_mode": {
    "name": "ipython",
    "version": 3
   },
   "file_extension": ".py",
   "mimetype": "text/x-python",
   "name": "python",
   "nbconvert_exporter": "python",
   "pygments_lexer": "ipython3",
   "version": "3.13.7"
  }
 },
 "nbformat": 4,
 "nbformat_minor": 5
}
