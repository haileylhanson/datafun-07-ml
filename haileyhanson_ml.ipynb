{
 "cells": [
  {
   "cell_type": "markdown",
   "id": "e3b8eff6",
   "metadata": {},
   "source": [
    "# Predictive ML Project\n",
    "- 🖤  Author : [Hailey Hanson](https://github.com/haileylhanson/)\n",
    "- 🖤  Repository : [datafun-07-ml](https://github.com/haileylhanson/datafun-07-ml)\n",
    "- 🖤  Date : October 2025 \n",
    "- 🖤  Purpose : "
   ]
  },
  {
   "cell_type": "markdown",
   "id": "e87d83a7",
   "metadata": {
    "vscode": {
     "languageId": "plaintext"
    }
   },
   "source": [
    "### Imports"
   ]
  },
  {
   "cell_type": "code",
   "execution_count": 4,
   "id": "8a562821",
   "metadata": {},
   "outputs": [
    {
     "name": "stdout",
     "output_type": "stream",
     "text": [
      "/Users/haileyhanson/Repos/.venv/bin/python\n"
     ]
    }
   ],
   "source": [
    "import sys\n",
    "print(sys.executable)"
   ]
  },
  {
   "cell_type": "code",
   "execution_count": 5,
   "id": "89a0e627",
   "metadata": {},
   "outputs": [
    {
     "name": "stdout",
     "output_type": "stream",
     "text": [
      "Collecting scipy\n",
      "  Using cached scipy-1.16.2-cp313-cp313-macosx_14_0_arm64.whl.metadata (62 kB)\n",
      "Requirement already satisfied: numpy<2.6,>=1.25.2 in /Users/haileyhanson/Repos/.venv/lib/python3.13/site-packages (from scipy) (2.3.2)\n",
      "Using cached scipy-1.16.2-cp313-cp313-macosx_14_0_arm64.whl (20.9 MB)\n",
      "Installing collected packages: scipy\n",
      "Successfully installed scipy-1.16.2\n"
     ]
    }
   ],
   "source": [
    "import sys\n",
    "!{sys.executable} -m pip install scipy\n"
   ]
  },
  {
   "cell_type": "code",
   "execution_count": 6,
   "id": "a1f10101",
   "metadata": {},
   "outputs": [],
   "source": [
    "#Imports\n",
    "import matplotlib\n",
    "import matplotlib.pyplot as plt\n",
    "import pandas as pd\n",
    "import seaborn as sns\n",
    "from matplotlib.axes import Axes\n",
    "from scipy import stats\n",
    "\n",
    "#Local Imports\n"
   ]
  },
  {
   "cell_type": "markdown",
   "id": "76b3fb2b",
   "metadata": {},
   "source": [
    "### Part 1 - Chart a Straight Line"
   ]
  },
  {
   "cell_type": "code",
   "execution_count": 7,
   "id": "ac2c17ce",
   "metadata": {},
   "outputs": [
    {
     "data": {
      "text/html": [
       "<div>\n",
       "<style scoped>\n",
       "    .dataframe tbody tr th:only-of-type {\n",
       "        vertical-align: middle;\n",
       "    }\n",
       "\n",
       "    .dataframe tbody tr th {\n",
       "        vertical-align: top;\n",
       "    }\n",
       "\n",
       "    .dataframe thead th {\n",
       "        text-align: right;\n",
       "    }\n",
       "</style>\n",
       "<table border=\"1\" class=\"dataframe\">\n",
       "  <thead>\n",
       "    <tr style=\"text-align: right;\">\n",
       "      <th></th>\n",
       "      <th>Date</th>\n",
       "      <th>Temperature</th>\n",
       "      <th>Anomaly</th>\n",
       "    </tr>\n",
       "  </thead>\n",
       "  <tbody>\n",
       "    <tr>\n",
       "      <th>0</th>\n",
       "      <td>189501</td>\n",
       "      <td>34.2</td>\n",
       "      <td>-3.2</td>\n",
       "    </tr>\n",
       "    <tr>\n",
       "      <th>1</th>\n",
       "      <td>189601</td>\n",
       "      <td>34.7</td>\n",
       "      <td>-2.7</td>\n",
       "    </tr>\n",
       "    <tr>\n",
       "      <th>2</th>\n",
       "      <td>189701</td>\n",
       "      <td>35.5</td>\n",
       "      <td>-1.9</td>\n",
       "    </tr>\n",
       "  </tbody>\n",
       "</table>\n",
       "</div>"
      ],
      "text/plain": [
       "     Date  Temperature  Anomaly\n",
       "0  189501         34.2     -3.2\n",
       "1  189601         34.7     -2.7\n",
       "2  189701         35.5     -1.9"
      ]
     },
     "execution_count": 7,
     "metadata": {},
     "output_type": "execute_result"
    },
    {
     "data": {
      "image/png": "[encoded data removed]",
      "text/plain": [
       "<Figure size 640x480 with 1 Axes>"
      ]
     },
     "metadata": {},
     "output_type": "display_data"
    }
   ],
   "source": [
    "# use Pandas DataFrames to plot Celsius vs Fahrenheit \n",
    "\n",
    "c = lambda f: 5/9 * (f-32)\n",
    "temps = [(f, c(f)) for f in range (0, 101, 10)]\n",
    "temps_df = pd.DataFrame(temps, columns=['Fahrenheit', 'Celsius'])\n",
    "axes = temps_df.plot(x='Fahrenheit', y='Celsius', style='.-')\n",
    "y_label = axes.set_ylabel('Celsius')\n",
    "\n",
    "nyc = pd.read_csv('ave_hi_nyc_jan_1895-2018.csv')\n",
    "\n",
    "nyc.columns = ['Date', 'Temperature', 'Anomaly']\n",
    "nyc.head(3)\n"
   ]
  },
  {
   "cell_type": "code",
   "execution_count": 8,
   "id": "02b788a8",
   "metadata": {},
   "outputs": [
    {
     "data": {
      "text/plain": [
       "count    124.00\n",
       "mean      37.60\n",
       "std        4.54\n",
       "min       26.10\n",
       "25%       34.58\n",
       "50%       37.60\n",
       "75%       40.60\n",
       "max       47.60\n",
       "Name: Temperature, dtype: float64"
      ]
     },
     "execution_count": 8,
     "metadata": {},
     "output_type": "execute_result"
    }
   ],
   "source": [
    "nyc.Date.dtype\n",
    "pd.set_option('display.precision', 2)\n",
    "nyc.Temperature.describe()\n",
    "\n"
   ]
  },
  {
   "cell_type": "code",
   "execution_count": 9,
   "id": "3bcbb5c4",
   "metadata": {},
   "outputs": [],
   "source": [
    "linear_regression = stats.linregress(x=nyc.Date, y=nyc.Temperature)\n"
   ]
  },
  {
   "cell_type": "markdown",
   "id": "d0e8b647",
   "metadata": {},
   "source": [
    "### Part 2 - Prediction"
   ]
  },
  {
   "cell_type": "markdown",
   "id": "9667a22f",
   "metadata": {},
   "source": [
    "### Part 3 - Prediction"
   ]
  },
  {
   "cell_type": "markdown",
   "id": "9220acd4",
   "metadata": {},
   "source": [
    "### Part 4 - Insights"
   ]
  }
 ],
 "metadata": {
  "kernelspec": {
   "display_name": ".venv",
   "language": "python",
   "name": "python3"
  },
  "language_info": {
   "codemirror_mode": {
    "name": "ipython",
    "version": 3
   },
   "file_extension": ".py",
   "mimetype": "text/x-python",
   "name": "python",
   "nbconvert_exporter": "python",
   "pygments_lexer": "ipython3",
   "version": "3.13.7"
  }
 },
 "nbformat": 4,
 "nbformat_minor": 5
}
