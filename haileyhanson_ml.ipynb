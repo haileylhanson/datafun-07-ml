{
 "cells": [
  {
   "cell_type": "markdown",
   "id": "e3b8eff6",
   "metadata": {},
   "source": [
    "# Predictive ML Project\n",
    "- 🖤  Author : [Hailey Hanson](https://github.com/haileylhanson/)\n",
    "- 🖤  Repository : [datafun-07-ml](https://github.com/haileylhanson/datafun-07-ml)\n",
    "- 🖤  Date : October 2025 \n",
    "- 🖤  Purpose : "
   ]
  },
  {
   "cell_type": "markdown",
   "id": "e87d83a7",
   "metadata": {
    "vscode": {
     "languageId": "plaintext"
    }
   },
   "source": [
    "### Imports"
   ]
  },
  {
   "cell_type": "code",
   "execution_count": 1,
   "id": "a1f10101",
   "metadata": {},
   "outputs": [],
   "source": [
    "import matplotlib\n",
    "import matplotlib.pyplot as plt\n",
    "import pandas as pd\n",
    "import seaborn as sns\n",
    "from matplotlib.axes import Axes"
   ]
  },
  {
   "cell_type": "markdown",
   "id": "76b3fb2b",
   "metadata": {},
   "source": [
    "### Part 1 - Chart a Straight Line"
   ]
  },
  {
   "cell_type": "code",
   "execution_count": null,
   "id": "ac2c17ce",
   "metadata": {},
   "outputs": [],
   "source": []
  }
 ],
 "metadata": {
  "kernelspec": {
   "display_name": ".venv",
   "language": "python",
   "name": "python3"
  },
  "language_info": {
   "codemirror_mode": {
    "name": "ipython",
    "version": 3
   },
   "file_extension": ".py",
   "mimetype": "text/x-python",
   "name": "python",
   "nbconvert_exporter": "python",
   "pygments_lexer": "ipython3",
   "version": "3.13.7"
  }
 },
 "nbformat": 4,
 "nbformat_minor": 5
}
